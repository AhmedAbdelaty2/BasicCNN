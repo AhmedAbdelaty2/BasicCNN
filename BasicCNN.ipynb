{
  "nbformat": 4,
  "nbformat_minor": 0,
  "metadata": {
    "colab": {
      "name": "Untitled1.ipynb",
      "provenance": [],
      "collapsed_sections": []
    },
    "kernelspec": {
      "name": "python3",
      "display_name": "Python 3"
    }
  },
  "cells": [
    {
      "cell_type": "code",
      "metadata": {
        "id": "nLoodQAN0fth"
      },
      "source": [
        "#importing the keras libraries and packages\r\n",
        "from keras.models import Sequential\r\n",
        "from keras.layers import Convolution2D\r\n",
        "from keras.layers import MaxPool2D\r\n",
        "from keras.layers import Flatten\r\n",
        "from keras.layers import Dense"
      ],
      "execution_count": null,
      "outputs": []
    },
    {
      "cell_type": "code",
      "metadata": {
        "id": "2MH-ay9Z1EcY"
      },
      "source": [
        "#initilizing the CNN\r\n",
        "classifier = Sequential()"
      ],
      "execution_count": null,
      "outputs": []
    },
    {
      "cell_type": "code",
      "metadata": {
        "id": "wtV6sXo92gQK"
      },
      "source": [
        "#step 1 - convolution\r\n",
        "classifier.add(Convolution2D(32, 3, 3, input_shape = (64, 64, 3), activation= 'relu'))"
      ],
      "execution_count": null,
      "outputs": []
    },
    {
      "cell_type": "code",
      "metadata": {
        "id": "fw0U0vIQ6Vqz"
      },
      "source": [
        "#step 2 - pooling\r\n",
        "classifier.add(MaxPool2D(pool_size=(2, 2)))"
      ],
      "execution_count": null,
      "outputs": []
    },
    {
      "cell_type": "code",
      "metadata": {
        "id": "sHEXkJJcJsre"
      },
      "source": [
        "#adding a second convolution layer\r\n",
        "classifier.add(Convolution2D(32, 3, 3, activation= 'relu'))\r\n",
        "classifier.add(MaxPool2D(pool_size=(2, 2)))"
      ],
      "execution_count": null,
      "outputs": []
    },
    {
      "cell_type": "code",
      "metadata": {
        "id": "pt_NQ97G7Lr0"
      },
      "source": [
        "#step 3 - flattening\r\n",
        "classifier.add(Flatten())"
      ],
      "execution_count": null,
      "outputs": []
    },
    {
      "cell_type": "code",
      "metadata": {
        "id": "3xNuOSAq8OSt"
      },
      "source": [
        "#step 4 - full connection\r\n",
        "classifier.add(Dense(128, activation= 'relu'))\r\n",
        "classifier.add(Dense(1, activation= 'sigmoid'))"
      ],
      "execution_count": null,
      "outputs": []
    },
    {
      "cell_type": "code",
      "metadata": {
        "id": "wEacbzpw9-mz"
      },
      "source": [
        "#compiling the CNN\r\n",
        "classifier.compile(optimizer = 'adam', loss = 'binary_crossentropy', metrics = ['accuracy'])"
      ],
      "execution_count": null,
      "outputs": []
    },
    {
      "cell_type": "code",
      "metadata": {
        "id": "4vvhCFso_aYu"
      },
      "source": [
        "#part 2 - fitting the CNN to images\r\n",
        "from keras.preprocessing import ImageDataGenerator\r\n",
        "\r\n",
        "train_datagen = ImageDataGenerator(\r\n",
        "        rescale=1./255,\r\n",
        "        shear_range=0.2,\r\n",
        "        zoom_range=0.2,\r\n",
        "        horizontal_flip=True)\r\n",
        "\r\n",
        "test_datagen = ImageDataGenerator(rescale=1./255)\r\n",
        "\r\n",
        "training_set = train_datagen.flow_from_directory('dataset/training_set',\r\n",
        "                                                 target_size=(64, 64),\r\n",
        "                                                 batch_size=32,\r\n",
        "                                                 class_mode='binary')\r\n",
        "\r\n",
        "test_set= test_datagen.flow_from_directory('dataset/test_set',\r\n",
        "                                            target_size=(64, 64),\r\n",
        "                                            batch_size=32,\r\n",
        "                                            class_mode='binary')\r\n",
        "\r\n",
        "classifier.fit(\r\n",
        "        training_set,\r\n",
        "        steps_per_epoch=8000,\r\n",
        "        epochs=25,\r\n",
        "        validation_data=test_set,\r\n",
        "        validation_steps=2000)"
      ],
      "execution_count": null,
      "outputs": []
    }
  ]
}